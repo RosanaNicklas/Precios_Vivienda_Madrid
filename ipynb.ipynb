{
 "cells": [
  {
   "cell_type": "code",
   "execution_count": null,
   "id": "866eb5b1-23f4-49dd-ab84-2a5fe69e02cb",
   "metadata": {},
   "outputs": [],
   "source": [
    "import pickle\n",
    "from numpy import asarray\n",
    "#import xgboost as xgb\n",
    "from xgboost import XGBRegressor\n",
    "model = XGBRegressor()\n",
    "# fit model\n",
    "model.fit(X,y)\n",
    "\n",
    "# Guardar el modelo entrenado\n",
    "nombre_archivo = 'model_entrenado.pkl'\n",
    "with open(nombre_archivo, 'wb') as archivo:\n",
    "    pickle.dump(model, archivo)\n",
    "\n",
    "print(f\"Modelo guardado en {nombre_archivo}\")"
   ]
  }
 ],
 "metadata": {
  "kernelspec": {
   "display_name": "Python 3 (ipykernel)",
   "language": "python",
   "name": "python3"
  },
  "language_info": {
   "codemirror_mode": {
    "name": "ipython",
    "version": 3
   },
   "file_extension": ".py",
   "mimetype": "text/x-python",
   "name": "python",
   "nbconvert_exporter": "python",
   "pygments_lexer": "ipython3",
   "version": "3.11.1"
  }
 },
 "nbformat": 4,
 "nbformat_minor": 5
}
