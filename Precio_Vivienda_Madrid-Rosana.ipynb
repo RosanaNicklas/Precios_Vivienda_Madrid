{
 "cells": [
  {
   "cell_type": "code",
   "execution_count": 1,
   "id": "e42f7fa9",
   "metadata": {},
   "outputs": [],
   "source": [
    "from time import time\n",
    "import warnings\n",
    "warnings.filterwarnings(\"ignore\")\n",
    "import seaborn as sns\n",
    "import pandas as pd\n",
    "import numpy as np\n",
    "import re\n",
    "import matplotlib.pyplot as plt\n",
    "import plotly.express as px\n",
    "from sklearn.preprocessing import MinMaxScaler , StandardScaler, LabelEncoder\n",
    "from sklearn import datasets, linear_model\n",
    "from sklearn import preprocessing\n",
    "from sklearn.preprocessing import Normalizer , scale\n",
    "from sklearn.decomposition import PCA\n",
    "from sklearn.model_selection import GridSearchCV\n",
    "from sklearn.ensemble import ExtraTreesRegressor, VotingRegressor\n",
    "from sklearn.metrics import mean_absolute_error, mean_squared_error\n",
    "import plotly.express as px\n",
    "import plotly.graph_objects as go\n",
    "from plotly.subplots import make_subplots"
   ]
  },
  {
   "cell_type": "code",
   "execution_count": 2,
   "id": "51ca5f57",
   "metadata": {},
   "outputs": [
    {
     "ename": "FileNotFoundError",
     "evalue": "[Errno 2] No such file or directory: 'houses_Madrid.csv'",
     "output_type": "error",
     "traceback": [
      "\u001b[0;31m---------------------------------------------------------------------------\u001b[0m",
      "\u001b[0;31mFileNotFoundError\u001b[0m                         Traceback (most recent call last)",
      "Input \u001b[0;32mIn [2]\u001b[0m, in \u001b[0;36m<cell line: 1>\u001b[0;34m()\u001b[0m\n\u001b[0;32m----> 1\u001b[0m pisos \u001b[38;5;241m=\u001b[39m \u001b[43mpd\u001b[49m\u001b[38;5;241;43m.\u001b[39;49m\u001b[43mread_csv\u001b[49m\u001b[43m(\u001b[49m\u001b[38;5;124;43m'\u001b[39;49m\u001b[38;5;124;43mhouses_Madrid.csv\u001b[39;49m\u001b[38;5;124;43m'\u001b[39;49m\u001b[43m)\u001b[49m\n",
      "File \u001b[0;32m/Library/Frameworks/Python.framework/Versions/3.8/lib/python3.8/site-packages/pandas/util/_decorators.py:211\u001b[0m, in \u001b[0;36mdeprecate_kwarg.<locals>._deprecate_kwarg.<locals>.wrapper\u001b[0;34m(*args, **kwargs)\u001b[0m\n\u001b[1;32m    209\u001b[0m     \u001b[38;5;28;01melse\u001b[39;00m:\n\u001b[1;32m    210\u001b[0m         kwargs[new_arg_name] \u001b[38;5;241m=\u001b[39m new_arg_value\n\u001b[0;32m--> 211\u001b[0m \u001b[38;5;28;01mreturn\u001b[39;00m \u001b[43mfunc\u001b[49m\u001b[43m(\u001b[49m\u001b[38;5;241;43m*\u001b[39;49m\u001b[43margs\u001b[49m\u001b[43m,\u001b[49m\u001b[43m \u001b[49m\u001b[38;5;241;43m*\u001b[39;49m\u001b[38;5;241;43m*\u001b[39;49m\u001b[43mkwargs\u001b[49m\u001b[43m)\u001b[49m\n",
      "File \u001b[0;32m/Library/Frameworks/Python.framework/Versions/3.8/lib/python3.8/site-packages/pandas/util/_decorators.py:317\u001b[0m, in \u001b[0;36mdeprecate_nonkeyword_arguments.<locals>.decorate.<locals>.wrapper\u001b[0;34m(*args, **kwargs)\u001b[0m\n\u001b[1;32m    311\u001b[0m \u001b[38;5;28;01mif\u001b[39;00m \u001b[38;5;28mlen\u001b[39m(args) \u001b[38;5;241m>\u001b[39m num_allow_args:\n\u001b[1;32m    312\u001b[0m     warnings\u001b[38;5;241m.\u001b[39mwarn(\n\u001b[1;32m    313\u001b[0m         msg\u001b[38;5;241m.\u001b[39mformat(arguments\u001b[38;5;241m=\u001b[39marguments),\n\u001b[1;32m    314\u001b[0m         \u001b[38;5;167;01mFutureWarning\u001b[39;00m,\n\u001b[1;32m    315\u001b[0m         stacklevel\u001b[38;5;241m=\u001b[39mfind_stack_level(inspect\u001b[38;5;241m.\u001b[39mcurrentframe()),\n\u001b[1;32m    316\u001b[0m     )\n\u001b[0;32m--> 317\u001b[0m \u001b[38;5;28;01mreturn\u001b[39;00m \u001b[43mfunc\u001b[49m\u001b[43m(\u001b[49m\u001b[38;5;241;43m*\u001b[39;49m\u001b[43margs\u001b[49m\u001b[43m,\u001b[49m\u001b[43m \u001b[49m\u001b[38;5;241;43m*\u001b[39;49m\u001b[38;5;241;43m*\u001b[39;49m\u001b[43mkwargs\u001b[49m\u001b[43m)\u001b[49m\n",
      "File \u001b[0;32m/Library/Frameworks/Python.framework/Versions/3.8/lib/python3.8/site-packages/pandas/io/parsers/readers.py:950\u001b[0m, in \u001b[0;36mread_csv\u001b[0;34m(filepath_or_buffer, sep, delimiter, header, names, index_col, usecols, squeeze, prefix, mangle_dupe_cols, dtype, engine, converters, true_values, false_values, skipinitialspace, skiprows, skipfooter, nrows, na_values, keep_default_na, na_filter, verbose, skip_blank_lines, parse_dates, infer_datetime_format, keep_date_col, date_parser, dayfirst, cache_dates, iterator, chunksize, compression, thousands, decimal, lineterminator, quotechar, quoting, doublequote, escapechar, comment, encoding, encoding_errors, dialect, error_bad_lines, warn_bad_lines, on_bad_lines, delim_whitespace, low_memory, memory_map, float_precision, storage_options)\u001b[0m\n\u001b[1;32m    935\u001b[0m kwds_defaults \u001b[38;5;241m=\u001b[39m _refine_defaults_read(\n\u001b[1;32m    936\u001b[0m     dialect,\n\u001b[1;32m    937\u001b[0m     delimiter,\n\u001b[0;32m   (...)\u001b[0m\n\u001b[1;32m    946\u001b[0m     defaults\u001b[38;5;241m=\u001b[39m{\u001b[38;5;124m\"\u001b[39m\u001b[38;5;124mdelimiter\u001b[39m\u001b[38;5;124m\"\u001b[39m: \u001b[38;5;124m\"\u001b[39m\u001b[38;5;124m,\u001b[39m\u001b[38;5;124m\"\u001b[39m},\n\u001b[1;32m    947\u001b[0m )\n\u001b[1;32m    948\u001b[0m kwds\u001b[38;5;241m.\u001b[39mupdate(kwds_defaults)\n\u001b[0;32m--> 950\u001b[0m \u001b[38;5;28;01mreturn\u001b[39;00m \u001b[43m_read\u001b[49m\u001b[43m(\u001b[49m\u001b[43mfilepath_or_buffer\u001b[49m\u001b[43m,\u001b[49m\u001b[43m \u001b[49m\u001b[43mkwds\u001b[49m\u001b[43m)\u001b[49m\n",
      "File \u001b[0;32m/Library/Frameworks/Python.framework/Versions/3.8/lib/python3.8/site-packages/pandas/io/parsers/readers.py:605\u001b[0m, in \u001b[0;36m_read\u001b[0;34m(filepath_or_buffer, kwds)\u001b[0m\n\u001b[1;32m    602\u001b[0m _validate_names(kwds\u001b[38;5;241m.\u001b[39mget(\u001b[38;5;124m\"\u001b[39m\u001b[38;5;124mnames\u001b[39m\u001b[38;5;124m\"\u001b[39m, \u001b[38;5;28;01mNone\u001b[39;00m))\n\u001b[1;32m    604\u001b[0m \u001b[38;5;66;03m# Create the parser.\u001b[39;00m\n\u001b[0;32m--> 605\u001b[0m parser \u001b[38;5;241m=\u001b[39m \u001b[43mTextFileReader\u001b[49m\u001b[43m(\u001b[49m\u001b[43mfilepath_or_buffer\u001b[49m\u001b[43m,\u001b[49m\u001b[43m \u001b[49m\u001b[38;5;241;43m*\u001b[39;49m\u001b[38;5;241;43m*\u001b[39;49m\u001b[43mkwds\u001b[49m\u001b[43m)\u001b[49m\n\u001b[1;32m    607\u001b[0m \u001b[38;5;28;01mif\u001b[39;00m chunksize \u001b[38;5;129;01mor\u001b[39;00m iterator:\n\u001b[1;32m    608\u001b[0m     \u001b[38;5;28;01mreturn\u001b[39;00m parser\n",
      "File \u001b[0;32m/Library/Frameworks/Python.framework/Versions/3.8/lib/python3.8/site-packages/pandas/io/parsers/readers.py:1442\u001b[0m, in \u001b[0;36mTextFileReader.__init__\u001b[0;34m(self, f, engine, **kwds)\u001b[0m\n\u001b[1;32m   1439\u001b[0m     \u001b[38;5;28mself\u001b[39m\u001b[38;5;241m.\u001b[39moptions[\u001b[38;5;124m\"\u001b[39m\u001b[38;5;124mhas_index_names\u001b[39m\u001b[38;5;124m\"\u001b[39m] \u001b[38;5;241m=\u001b[39m kwds[\u001b[38;5;124m\"\u001b[39m\u001b[38;5;124mhas_index_names\u001b[39m\u001b[38;5;124m\"\u001b[39m]\n\u001b[1;32m   1441\u001b[0m \u001b[38;5;28mself\u001b[39m\u001b[38;5;241m.\u001b[39mhandles: IOHandles \u001b[38;5;241m|\u001b[39m \u001b[38;5;28;01mNone\u001b[39;00m \u001b[38;5;241m=\u001b[39m \u001b[38;5;28;01mNone\u001b[39;00m\n\u001b[0;32m-> 1442\u001b[0m \u001b[38;5;28mself\u001b[39m\u001b[38;5;241m.\u001b[39m_engine \u001b[38;5;241m=\u001b[39m \u001b[38;5;28;43mself\u001b[39;49m\u001b[38;5;241;43m.\u001b[39;49m\u001b[43m_make_engine\u001b[49m\u001b[43m(\u001b[49m\u001b[43mf\u001b[49m\u001b[43m,\u001b[49m\u001b[43m \u001b[49m\u001b[38;5;28;43mself\u001b[39;49m\u001b[38;5;241;43m.\u001b[39;49m\u001b[43mengine\u001b[49m\u001b[43m)\u001b[49m\n",
      "File \u001b[0;32m/Library/Frameworks/Python.framework/Versions/3.8/lib/python3.8/site-packages/pandas/io/parsers/readers.py:1729\u001b[0m, in \u001b[0;36mTextFileReader._make_engine\u001b[0;34m(self, f, engine)\u001b[0m\n\u001b[1;32m   1727\u001b[0m     is_text \u001b[38;5;241m=\u001b[39m \u001b[38;5;28;01mFalse\u001b[39;00m\n\u001b[1;32m   1728\u001b[0m     mode \u001b[38;5;241m=\u001b[39m \u001b[38;5;124m\"\u001b[39m\u001b[38;5;124mrb\u001b[39m\u001b[38;5;124m\"\u001b[39m\n\u001b[0;32m-> 1729\u001b[0m \u001b[38;5;28mself\u001b[39m\u001b[38;5;241m.\u001b[39mhandles \u001b[38;5;241m=\u001b[39m \u001b[43mget_handle\u001b[49m\u001b[43m(\u001b[49m\n\u001b[1;32m   1730\u001b[0m \u001b[43m    \u001b[49m\u001b[43mf\u001b[49m\u001b[43m,\u001b[49m\n\u001b[1;32m   1731\u001b[0m \u001b[43m    \u001b[49m\u001b[43mmode\u001b[49m\u001b[43m,\u001b[49m\n\u001b[1;32m   1732\u001b[0m \u001b[43m    \u001b[49m\u001b[43mencoding\u001b[49m\u001b[38;5;241;43m=\u001b[39;49m\u001b[38;5;28;43mself\u001b[39;49m\u001b[38;5;241;43m.\u001b[39;49m\u001b[43moptions\u001b[49m\u001b[38;5;241;43m.\u001b[39;49m\u001b[43mget\u001b[49m\u001b[43m(\u001b[49m\u001b[38;5;124;43m\"\u001b[39;49m\u001b[38;5;124;43mencoding\u001b[39;49m\u001b[38;5;124;43m\"\u001b[39;49m\u001b[43m,\u001b[49m\u001b[43m \u001b[49m\u001b[38;5;28;43;01mNone\u001b[39;49;00m\u001b[43m)\u001b[49m\u001b[43m,\u001b[49m\n\u001b[1;32m   1733\u001b[0m \u001b[43m    \u001b[49m\u001b[43mcompression\u001b[49m\u001b[38;5;241;43m=\u001b[39;49m\u001b[38;5;28;43mself\u001b[39;49m\u001b[38;5;241;43m.\u001b[39;49m\u001b[43moptions\u001b[49m\u001b[38;5;241;43m.\u001b[39;49m\u001b[43mget\u001b[49m\u001b[43m(\u001b[49m\u001b[38;5;124;43m\"\u001b[39;49m\u001b[38;5;124;43mcompression\u001b[39;49m\u001b[38;5;124;43m\"\u001b[39;49m\u001b[43m,\u001b[49m\u001b[43m \u001b[49m\u001b[38;5;28;43;01mNone\u001b[39;49;00m\u001b[43m)\u001b[49m\u001b[43m,\u001b[49m\n\u001b[1;32m   1734\u001b[0m \u001b[43m    \u001b[49m\u001b[43mmemory_map\u001b[49m\u001b[38;5;241;43m=\u001b[39;49m\u001b[38;5;28;43mself\u001b[39;49m\u001b[38;5;241;43m.\u001b[39;49m\u001b[43moptions\u001b[49m\u001b[38;5;241;43m.\u001b[39;49m\u001b[43mget\u001b[49m\u001b[43m(\u001b[49m\u001b[38;5;124;43m\"\u001b[39;49m\u001b[38;5;124;43mmemory_map\u001b[39;49m\u001b[38;5;124;43m\"\u001b[39;49m\u001b[43m,\u001b[49m\u001b[43m \u001b[49m\u001b[38;5;28;43;01mFalse\u001b[39;49;00m\u001b[43m)\u001b[49m\u001b[43m,\u001b[49m\n\u001b[1;32m   1735\u001b[0m \u001b[43m    \u001b[49m\u001b[43mis_text\u001b[49m\u001b[38;5;241;43m=\u001b[39;49m\u001b[43mis_text\u001b[49m\u001b[43m,\u001b[49m\n\u001b[1;32m   1736\u001b[0m \u001b[43m    \u001b[49m\u001b[43merrors\u001b[49m\u001b[38;5;241;43m=\u001b[39;49m\u001b[38;5;28;43mself\u001b[39;49m\u001b[38;5;241;43m.\u001b[39;49m\u001b[43moptions\u001b[49m\u001b[38;5;241;43m.\u001b[39;49m\u001b[43mget\u001b[49m\u001b[43m(\u001b[49m\u001b[38;5;124;43m\"\u001b[39;49m\u001b[38;5;124;43mencoding_errors\u001b[39;49m\u001b[38;5;124;43m\"\u001b[39;49m\u001b[43m,\u001b[49m\u001b[43m \u001b[49m\u001b[38;5;124;43m\"\u001b[39;49m\u001b[38;5;124;43mstrict\u001b[39;49m\u001b[38;5;124;43m\"\u001b[39;49m\u001b[43m)\u001b[49m\u001b[43m,\u001b[49m\n\u001b[1;32m   1737\u001b[0m \u001b[43m    \u001b[49m\u001b[43mstorage_options\u001b[49m\u001b[38;5;241;43m=\u001b[39;49m\u001b[38;5;28;43mself\u001b[39;49m\u001b[38;5;241;43m.\u001b[39;49m\u001b[43moptions\u001b[49m\u001b[38;5;241;43m.\u001b[39;49m\u001b[43mget\u001b[49m\u001b[43m(\u001b[49m\u001b[38;5;124;43m\"\u001b[39;49m\u001b[38;5;124;43mstorage_options\u001b[39;49m\u001b[38;5;124;43m\"\u001b[39;49m\u001b[43m,\u001b[49m\u001b[43m \u001b[49m\u001b[38;5;28;43;01mNone\u001b[39;49;00m\u001b[43m)\u001b[49m\u001b[43m,\u001b[49m\n\u001b[1;32m   1738\u001b[0m \u001b[43m\u001b[49m\u001b[43m)\u001b[49m\n\u001b[1;32m   1739\u001b[0m \u001b[38;5;28;01massert\u001b[39;00m \u001b[38;5;28mself\u001b[39m\u001b[38;5;241m.\u001b[39mhandles \u001b[38;5;129;01mis\u001b[39;00m \u001b[38;5;129;01mnot\u001b[39;00m \u001b[38;5;28;01mNone\u001b[39;00m\n\u001b[1;32m   1740\u001b[0m f \u001b[38;5;241m=\u001b[39m \u001b[38;5;28mself\u001b[39m\u001b[38;5;241m.\u001b[39mhandles\u001b[38;5;241m.\u001b[39mhandle\n",
      "File \u001b[0;32m/Library/Frameworks/Python.framework/Versions/3.8/lib/python3.8/site-packages/pandas/io/common.py:857\u001b[0m, in \u001b[0;36mget_handle\u001b[0;34m(path_or_buf, mode, encoding, compression, memory_map, is_text, errors, storage_options)\u001b[0m\n\u001b[1;32m    852\u001b[0m \u001b[38;5;28;01melif\u001b[39;00m \u001b[38;5;28misinstance\u001b[39m(handle, \u001b[38;5;28mstr\u001b[39m):\n\u001b[1;32m    853\u001b[0m     \u001b[38;5;66;03m# Check whether the filename is to be opened in binary mode.\u001b[39;00m\n\u001b[1;32m    854\u001b[0m     \u001b[38;5;66;03m# Binary mode does not support 'encoding' and 'newline'.\u001b[39;00m\n\u001b[1;32m    855\u001b[0m     \u001b[38;5;28;01mif\u001b[39;00m ioargs\u001b[38;5;241m.\u001b[39mencoding \u001b[38;5;129;01mand\u001b[39;00m \u001b[38;5;124m\"\u001b[39m\u001b[38;5;124mb\u001b[39m\u001b[38;5;124m\"\u001b[39m \u001b[38;5;129;01mnot\u001b[39;00m \u001b[38;5;129;01min\u001b[39;00m ioargs\u001b[38;5;241m.\u001b[39mmode:\n\u001b[1;32m    856\u001b[0m         \u001b[38;5;66;03m# Encoding\u001b[39;00m\n\u001b[0;32m--> 857\u001b[0m         handle \u001b[38;5;241m=\u001b[39m \u001b[38;5;28;43mopen\u001b[39;49m\u001b[43m(\u001b[49m\n\u001b[1;32m    858\u001b[0m \u001b[43m            \u001b[49m\u001b[43mhandle\u001b[49m\u001b[43m,\u001b[49m\n\u001b[1;32m    859\u001b[0m \u001b[43m            \u001b[49m\u001b[43mioargs\u001b[49m\u001b[38;5;241;43m.\u001b[39;49m\u001b[43mmode\u001b[49m\u001b[43m,\u001b[49m\n\u001b[1;32m    860\u001b[0m \u001b[43m            \u001b[49m\u001b[43mencoding\u001b[49m\u001b[38;5;241;43m=\u001b[39;49m\u001b[43mioargs\u001b[49m\u001b[38;5;241;43m.\u001b[39;49m\u001b[43mencoding\u001b[49m\u001b[43m,\u001b[49m\n\u001b[1;32m    861\u001b[0m \u001b[43m            \u001b[49m\u001b[43merrors\u001b[49m\u001b[38;5;241;43m=\u001b[39;49m\u001b[43merrors\u001b[49m\u001b[43m,\u001b[49m\n\u001b[1;32m    862\u001b[0m \u001b[43m            \u001b[49m\u001b[43mnewline\u001b[49m\u001b[38;5;241;43m=\u001b[39;49m\u001b[38;5;124;43m\"\u001b[39;49m\u001b[38;5;124;43m\"\u001b[39;49m\u001b[43m,\u001b[49m\n\u001b[1;32m    863\u001b[0m \u001b[43m        \u001b[49m\u001b[43m)\u001b[49m\n\u001b[1;32m    864\u001b[0m     \u001b[38;5;28;01melse\u001b[39;00m:\n\u001b[1;32m    865\u001b[0m         \u001b[38;5;66;03m# Binary mode\u001b[39;00m\n\u001b[1;32m    866\u001b[0m         handle \u001b[38;5;241m=\u001b[39m \u001b[38;5;28mopen\u001b[39m(handle, ioargs\u001b[38;5;241m.\u001b[39mmode)\n",
      "\u001b[0;31mFileNotFoundError\u001b[0m: [Errno 2] No such file or directory: 'houses_Madrid.csv'"
     ]
    }
   ],
   "source": [
    "pisos = pd.read_csv('houses_Madrid.csv')"
   ]
  },
  {
   "cell_type": "markdown",
   "id": "e51130e2",
   "metadata": {},
   "source": [
    "# DATASET"
   ]
  },
  {
   "cell_type": "markdown",
   "id": "a22cf412",
   "metadata": {},
   "source": [
    "***El dataset contiene información sobre los precios de vivienda en Madrid, y la mayoría de las propiedades registradas son de tipo \"pisos\". Esto indica que la mayoría de las unidades de vivienda en el conjunto de datos son apartamentos ubicados en edificios de varios pisos. Estos pisos pueden variar en tamaño, ubicación, número de habitaciones y otras características que influyen en sus precios.***\n",
    "\n",
    "***El hecho de que la mayoría de las propiedades sean pisos puede deberse a diversas razones, como la alta densidad de población en las áreas urbanas, la preferencia de los residentes por vivir en apartamentos más compactos y cercanos a servicios y comodidades, y la disponibilidad de suelo limitada para nuevas construcciones en el centro de la ciudad.***"
   ]
  },
  {
   "cell_type": "code",
   "execution_count": null,
   "id": "61212d8a",
   "metadata": {},
   "outputs": [],
   "source": [
    "print('Contenido y Forma de los datos')\n",
    "print('filas y columnas: {}'.format(pisos.shape))"
   ]
  },
  {
   "cell_type": "markdown",
   "id": "34843f65",
   "metadata": {},
   "source": [
    "# En este proyecto voy a construir un modelo sobre el  precio de la vivienda en Madrid.\n"
   ]
  },
  {
   "cell_type": "markdown",
   "id": "393e33ed",
   "metadata": {},
   "source": [
    "***Partimos de un conjunto de datos que consta de 21742 filas y 58 columnas con diferentes\n",
    "métricas como precio de vivienda, numero de habitaciones, numero de baños, metros cuadrados...***"
   ]
  },
  {
   "cell_type": "code",
   "execution_count": null,
   "id": "da38b14b",
   "metadata": {},
   "outputs": [],
   "source": [
    "pisos.head()"
   ]
  },
  {
   "cell_type": "markdown",
   "id": "ac58146b",
   "metadata": {},
   "source": [
    "# Primero vamos a eliminar la columna \"Unnamed:0\" y  vamos a tomar de index la columna \"id\"."
   ]
  },
  {
   "cell_type": "code",
   "execution_count": null,
   "id": "36e060ac",
   "metadata": {},
   "outputs": [],
   "source": [
    "pisos.drop(columns=['Unnamed: 0'], inplace=True)\n",
    "pisos.set_index('id', inplace=True)\n",
    "pisos.head()"
   ]
  },
  {
   "cell_type": "code",
   "execution_count": null,
   "id": "63e6f9a0",
   "metadata": {},
   "outputs": [],
   "source": [
    "print('filas y columnas: {}'.format(pisos.shape))\n",
    "print('Total Entradas: {}'.format(pisos.size))"
   ]
  },
  {
   "cell_type": "markdown",
   "id": "26ed0155",
   "metadata": {},
   "source": [
    "***El dataset que tienes contiene una serie de características (features) que describen diferentes aspectos de propiedades inmobiliarias. A continuación, te explicaré cada una de las características:***\n",
    "\n",
    "1. 'título': El título del anuncio o publicación de la propiedad.\n",
    "\n",
    "2. 'subtítulo': Un subtítulo adicional que complementa la descripción de la propiedad.\n",
    "\n",
    "3. 'm2_construidos': La cantidad de metros cuadrados construidos de la propiedad.\n",
    "\n",
    "4. 'm2_útiles': La cantidad de metros cuadrados útiles de la propiedad (área habitable).\n",
    "\n",
    "5. 'n_habitaciones': El número de habitaciones (dormitorios) que tiene la propiedad.\n",
    "\n",
    "6. 'n_baños': El número de baños que tiene la propiedad.\n",
    "\n",
    "7. 'n_pisos': El número de pisos (plantas) que tiene la propiedad.\n",
    "\n",
    "8. 'm2_asignación': La cantidad de metros cuadrados asignados a la propiedad, que podría referirse a áreas comunes en un edificio.\n",
    "\n",
    "9. 'latitud': La coordenada de latitud geográfica de la ubicación de la propiedad.\n",
    "\n",
    "10. 'longitud': La coordenada de longitud geográfica de la ubicación de la propiedad.\n",
    "\n",
    "11. 'raw_address': La dirección sin procesar de la propiedad.\n",
    "\n",
    "12. 'is_exact_address_hidden': Un valor booleano que indica si la dirección exacta de la propiedad está oculta o no.\n",
    "\n",
    "13. 'street_name': El nombre de la calle en la que se encuentra la propiedad.\n",
    "\n",
    "14. 'calle_número': El número de la calle donde se encuentra la propiedad.\n",
    "\n",
    "15. 'portal': Número de portal o entrada a la propiedad (en edificios).\n",
    "\n",
    "16. 'piso': El número de piso en el que se encuentra la propiedad.\n",
    "\n",
    "17. 'es_piso_debajo': Un valor booleano que indica si la propiedad está en un piso debajo del nivel de la calle.\n",
    "\n",
    "18. 'puerta': El número de puerta o apartamento en el que se encuentra la propiedad.\n",
    "\n",
    "19. 'neighborhood_id': Identificador único del barrio o vecindario en el que se encuentra la propiedad.\n",
    "\n",
    "20. 'operación': El tipo de operación, que podría ser \"venta\" o \"alquiler\".\n",
    "\n",
    "21. 'rent_price': El precio de alquiler de la propiedad.\n",
    "\n",
    "22. 'rent_price_by_area': El precio de alquiler dividido por el área útil de la propiedad.\n",
    "\n",
    "23. 'is_rent_price_known': Un valor booleano que indica si el precio de alquiler es conocido o no.\n",
    "\n",
    "24. 'buy_price': El precio de venta de la propiedad.\n",
    "\n",
    "25. 'buy_price_by_area': El precio de venta dividido por el área útil de la propiedad.\n",
    "\n",
    "26. 'is_buy_price_known': Un valor booleano que indica si el precio de venta es conocido o no.\n",
    "\n",
    "27. 'house_type_id': Identificador único del tipo de propiedad (casa, piso, chalet, etc.).\n",
    "\n",
    "28. 'is_renewal_needed': Un valor booleano que indica si la propiedad necesita renovación o no.\n",
    "\n",
    "29. 'es_nuevo_desarrollo': Un valor booleano que indica si la propiedad es de nuevo desarrollo o no.\n",
    "\n",
    "30. 'año_construido': El año de construcción de la propiedad.\n",
    "\n",
    "31. 'tiene_calefacción_central': Un valor booleano que indica si la propiedad tiene calefacción central.\n",
    "\n",
    "32. 'tiene_calefacción_individual': Un valor booleano que indica si la propiedad tiene calefacción individual.\n",
    "\n",
    "33. 'se_admiten_mascotas': Un valor booleano que indica si se admiten mascotas en la propiedad.\n",
    "\n",
    "34. 'tiene_ac': Un valor booleano que indica si la propiedad tiene aire acondicionado.\n",
    "\n",
    "35. 'tiene_armarios_equipados': Un valor booleano que indica si la propiedad tiene armarios equipados.\n",
    "\n",
    "36. 'tiene_ascensor': Un valor booleano que indica si la propiedad tiene ascensor.\n",
    "\n",
    "37. 'es_exterior': Un valor booleano que indica si la propiedad es exterior.\n",
    "\n",
    "38. 'tiene_jardín': Un valor booleano que indica si la propiedad tiene jardín.\n",
    "\n",
    "39. 'tiene_piscina': Un valor booleano que indica si la propiedad tiene piscina.\n",
    "\n",
    "40. 'tiene_terraza': Un valor booleano que indica si la propiedad tiene terraza.\n",
    "\n",
    "41. 'tiene_balcón': Un valor booleano que indica si la propiedad tiene balcón.\n",
    "\n",
    "42. 'tiene_trastero': Un valor booleano que indica si la propiedad tiene trastero.\n",
    "\n",
    "43. 'está_amueblado': Un valor booleano que indica si la propiedad está amueblada.\n",
    "\n",
    "44. 'está_cocina_equipada': Un valor booleano que indica si la propiedad tiene la cocina equipada.\n",
    "\n",
    "45. 'es_accesible': Un valor booleano que indica si la propiedad es accesible para personas con discapacidad.\n",
    "\n",
    "46. 'has_green_zones': Un valor booleano que indica si la propiedad cuenta con zonas verdes cercanas.\n",
    "\n",
    "47. 'energy_certificate': Información sobre el certificado energético de la propiedad.\n",
    "\n",
    "48. 'has_parking': Un valor booleano que indica si la propiedad tiene aparcamiento.\n",
    "\n",
    "49. 'tiene_estacionamiento_privado': Un valor booleano que indica si la propiedad tiene estacionamiento privado.\n",
    "\n",
    "50. 'tiene_estacionamiento_publico': Un valor booleano que indica si la propiedad tiene estacionamiento público cercano.\n",
    "\n",
    "51. 'is_parking_included_in_price': Un valor booleano que indica si el aparcamiento está incluido en el precio de la propiedad.\n",
    "\n",
    "52. 'parking_price': El precio del aparcamiento si no está incluido en el precio de la propiedad.\n",
    "\n",
    "53. 'is_orientation_north': Un valor booleano que indica si la propiedad tiene orientación al norte.\n",
    "\n",
    "54. 'es_orientación_oeste': Un valor booleano que indica si la propiedad tiene orientación al oeste.\n",
    "\n",
    "55. 'es_orientación_sur': Un valor booleano que indica si la propiedad tiene orientación al sur.\n",
    "\n",
    "56. 'es_orientación_este': Un valor booleano que indica si la propiedad tiene orientación al este.\n",
    "\n",
    "***Cada una de estas características puede ser relevante para el análisis y predicción de precios o características de las propiedades inmobiliarias. Dependiendo de tus objetivos, deberás seleccionar las características más importantes y realizar el preprocesamiento adecuado para utilizarlas en tus modelos de machine learning.***"
   ]
  },
  {
   "cell_type": "code",
   "execution_count": null,
   "id": "68d40222",
   "metadata": {},
   "outputs": [],
   "source": [
    "pisos.info()"
   ]
  },
  {
   "cell_type": "code",
   "execution_count": null,
   "id": "6dd20647",
   "metadata": {},
   "outputs": [],
   "source": [
    "sns.distplot(pisos['buy_price'])"
   ]
  },
  {
   "cell_type": "code",
   "execution_count": null,
   "id": "cc420e96",
   "metadata": {},
   "outputs": [],
   "source": [
    "#Valores de simetría y curtosis antes de tratar\n",
    "print(\"Skewness: %f\" % pisos['buy_price'].skew())\n",
    "print(\"Kurtosis: %f\" % pisos['buy_price'].kurt())"
   ]
  },
  {
   "cell_type": "markdown",
   "id": "e94aa169",
   "metadata": {},
   "source": [
    "***Podemos ver que la distribucion tiene un sesgo positivo***"
   ]
  },
  {
   "cell_type": "code",
   "execution_count": null,
   "id": "1d8fab06",
   "metadata": {},
   "outputs": [],
   "source": [
    "Venta=pisos[pisos['is_buy_price_known']==True]\n",
    "Venta=Venta['buy_price']\n",
    "Venta.describe()"
   ]
  },
  {
   "cell_type": "markdown",
   "id": "e22932b4",
   "metadata": {},
   "source": [
    "***Podemos observar una serie de detalles sobre los precios,el más económico \n",
    "esta en 360000 euros mientras que el más caro en 8800000 euros, una ganga...***"
   ]
  },
  {
   "cell_type": "code",
   "execution_count": null,
   "id": "858dfb8f",
   "metadata": {},
   "outputs": [],
   "source": [
    "pisos.isnull().sum()"
   ]
  },
  {
   "cell_type": "markdown",
   "id": "e209b7c1",
   "metadata": {},
   "source": [
    "***Tenemos 179 datos duplicados y una serie de columnas sin datos que hay que eliminar, \n",
    "son todas las que tienen 21742 datos nulos es decir, las ultimas 10 columnas, a la hora de eliminar\n",
    "voy a eliminar también las columnas 'n_floors' y 'sq_mt_allotment', ya que tienen 20300 datos nulos cada una. \n",
    "Después trataremos el resto de columnas ya que hay muchas en las que hay datos nulos y por lo tanto no son \n",
    "uniformes y nos daran resultados sesgados*** "
   ]
  },
  {
   "cell_type": "code",
   "execution_count": null,
   "id": "2fe74109",
   "metadata": {},
   "outputs": [],
   "source": [
    "print(pisos.duplicated)"
   ]
  },
  {
   "cell_type": "markdown",
   "id": "3b3dd1d2",
   "metadata": {},
   "source": [
    "***Observo que con los datos duplicados no hay problema, sin embargo hay muchos valores nulos***"
   ]
  },
  {
   "cell_type": "code",
   "execution_count": null,
   "id": "d093f1ab",
   "metadata": {},
   "outputs": [],
   "source": [
    "pisos.columns"
   ]
  },
  {
   "cell_type": "code",
   "execution_count": null,
   "id": "21ebbf17",
   "metadata": {},
   "outputs": [],
   "source": [
    "print(pisos.shape)\n",
    "pisos.head()"
   ]
  },
  {
   "cell_type": "markdown",
   "id": "fa51c71b",
   "metadata": {},
   "source": [
    "***Comienzo eliminando las columnas sin datos y las que entiendo que no voy a necesitar para la predicción,  entre ellas 'title', 'subtitle', 'operation' y 'rent_price', ya que me voy a centrar en el precio de venta de los pisos***"
   ]
  },
  {
   "cell_type": "code",
   "execution_count": null,
   "id": "30251cf9",
   "metadata": {},
   "outputs": [],
   "source": [
    "pisos.drop(columns=['title', 'subtitle', 'sq_mt_useful','n_floors', \n",
    "       'sq_mt_allotment', 'latitude', 'longitude',\n",
    "       'raw_address', 'is_exact_address_hidden', 'street_name',\n",
    "       'street_number', 'portal', 'door',\n",
    "       'rent_price_by_area', 'built_year',\n",
    "       'is_rent_price_known', 'buy_price_by_area',\n",
    "       'is_buy_price_known', 'is_furnished',\n",
    "       'has_central_heating', 'rent_price',\n",
    "       'are_pets_allowed',\n",
    "       'is_kitchen_equipped',\n",
    "       'energy_certificate', 'has_parking',\n",
    "       'has_private_parking', 'has_public_parking',\n",
    "       'is_parking_included_in_price', 'parking_price', 'is_orientation_north',\n",
    "       'is_orientation_west', 'is_orientation_south', 'is_orientation_east'], inplace=True)"
   ]
  },
  {
   "cell_type": "code",
   "execution_count": null,
   "id": "54edaf86",
   "metadata": {},
   "outputs": [],
   "source": [
    "pisos.shape"
   ]
  },
  {
   "cell_type": "code",
   "execution_count": null,
   "id": "5fb9aa12",
   "metadata": {
    "scrolled": true
   },
   "outputs": [],
   "source": [
    "pisos.describe().T"
   ]
  },
  {
   "cell_type": "code",
   "execution_count": null,
   "id": "2ec5e747",
   "metadata": {},
   "outputs": [],
   "source": [
    "pisos.head()"
   ]
  },
  {
   "cell_type": "markdown",
   "id": "fdf1962b",
   "metadata": {},
   "source": [
    "***Vamos a obsevar la correlacion de los datos restantes respecto al precio de los pisos, veamos, ya \n",
    "que si la correlacion es muy baja los datos no nos van a ayudar mucho, todo lo contrario*** "
   ]
  },
  {
   "cell_type": "code",
   "execution_count": null,
   "id": "7ea8bbe3",
   "metadata": {},
   "outputs": [],
   "source": [
    "corr = pisos.corr()\n",
    "corr"
   ]
  },
  {
   "cell_type": "markdown",
   "id": "cbdb9467",
   "metadata": {},
   "source": [
    "***Hay tres datos que estan my correlacionados con el precio del piso, los metros, el numero de habitaciones y el numero de baños, evidentemente cuantos más metros, habitaciones o baños tenga una casa más cara será, ya que será de mayor tamaño, luego veremos como cuanto mayor sea la planta en caso de ser piso, tambien influye y por supuesto el distrito donde se vive, con las mismas caracteristicas es más caro un piso en el Barrio de Salamanca que otro que este en Vallecas.***"
   ]
  },
  {
   "cell_type": "code",
   "execution_count": null,
   "id": "f34b845c",
   "metadata": {},
   "outputs": [],
   "source": [
    "pisos.corr()['buy_price'].sort_values(ascending=False)"
   ]
  },
  {
   "cell_type": "markdown",
   "id": "ba074764",
   "metadata": {},
   "source": [
    "***Hay varias columnas que no tienen ninguna correlación con el precio por lo que hay que eliminarlas tambien***"
   ]
  },
  {
   "cell_type": "code",
   "execution_count": null,
   "id": "4772908d",
   "metadata": {},
   "outputs": [],
   "source": [
    "#Matriz de correlaciones\n",
    "corrmat = pisos.corr()\n",
    "top_corr_features = corrmat.index\n",
    "plt.figure(figsize=(20,20))\n",
    "g=sns.heatmap(pisos[top_corr_features].corr(),annot=True,cmap=\"RdYlGn\")"
   ]
  },
  {
   "cell_type": "markdown",
   "id": "84ef5bdf",
   "metadata": {},
   "source": [
    "***Visualización de la tendencia entre precios de compra y metros cuadrados***"
   ]
  },
  {
   "cell_type": "code",
   "execution_count": null,
   "id": "5dbeebc3",
   "metadata": {},
   "outputs": [],
   "source": [
    "# Visualización de la tendencia entre precios de compra y metros cuadrados\n",
    "plt.figure(figsize=(12,8))\n",
    "sns.scatterplot(x='sq_mt_built', y='buy_price', data=pisos)"
   ]
  },
  {
   "cell_type": "markdown",
   "id": "63b383cf",
   "metadata": {},
   "source": [
    "***Visualización de la tendencia entre precios de compra y numero de habitaciones***"
   ]
  },
  {
   "cell_type": "code",
   "execution_count": null,
   "id": "071ba523",
   "metadata": {},
   "outputs": [],
   "source": [
    "# Frecuencia por numero de habitaciones\n",
    "plt.figure(figsize=(12,8))\n",
    "sns.countplot(x='n_rooms', data=pisos)"
   ]
  },
  {
   "cell_type": "code",
   "execution_count": null,
   "id": "b8ba5bfa",
   "metadata": {},
   "outputs": [],
   "source": [
    "pisos.sort_values('n_rooms', ascending=False).head(5)"
   ]
  },
  {
   "cell_type": "markdown",
   "id": "c41662ea",
   "metadata": {},
   "source": [
    "***Visualización de la tendencia entre precios de compra y numero de baños***"
   ]
  },
  {
   "cell_type": "code",
   "execution_count": null,
   "id": "f1afc582",
   "metadata": {},
   "outputs": [],
   "source": [
    "# Frecuencia por numero de baños\n",
    "plt.figure(figsize=(12,8))\n",
    "sns.countplot(x='n_bathrooms', data=pisos)"
   ]
  },
  {
   "cell_type": "code",
   "execution_count": null,
   "id": "a14eda3d",
   "metadata": {},
   "outputs": [],
   "source": [
    "pisos.sort_values('n_bathrooms', ascending=False).head(5)"
   ]
  },
  {
   "cell_type": "markdown",
   "id": "cd9d3912",
   "metadata": {},
   "source": [
    "***También esta correlacionado si la vivienda necesita restauración, si la necesita es más económico.***"
   ]
  },
  {
   "cell_type": "code",
   "execution_count": null,
   "id": "35d4f780",
   "metadata": {},
   "outputs": [],
   "source": [
    "# Frecuencia si necesita ser rehabilitada la vivienda.\n",
    "plt.figure(figsize=(12,8))\n",
    "sns.countplot(x='is_renewal_needed', data=pisos)"
   ]
  },
  {
   "cell_type": "markdown",
   "id": "c0eea5e3",
   "metadata": {},
   "source": [
    "Precio más alto de piso en el Dataset"
   ]
  },
  {
   "cell_type": "code",
   "execution_count": null,
   "id": "7dfbf5a8",
   "metadata": {},
   "outputs": [],
   "source": [
    "plt.figure(figsize=(15, 7))\n",
    "sns.distplot(pisos[\"buy_price\"], color=\"blue\")\n",
    "plt.xlabel(\"buy_price\")\n",
    "plt.title(\"Distribución de Precio de los pisos\")\n",
    "print(\"Precio más alto de piso en el Dataset: \", pisos[\"buy_price\"].max())\n",
    "plt.show()"
   ]
  },
  {
   "cell_type": "markdown",
   "id": "1b04c7be",
   "metadata": {},
   "source": [
    "Precio más bajo de piso en el Dataset"
   ]
  },
  {
   "cell_type": "code",
   "execution_count": null,
   "id": "a2e961ad",
   "metadata": {},
   "outputs": [],
   "source": [
    "plt.figure(figsize=(15, 7))\n",
    "sns.distplot(pisos[\"buy_price\"], color=\"red\")\n",
    "plt.xlabel(\"buy_price\")\n",
    "plt.title(\"Distribución de Precio de los pisos\")\n",
    "print(\"Precio más bajo de piso en el Dataset: \", pisos[\"buy_price\"].min())\n",
    "plt.show()"
   ]
  },
  {
   "cell_type": "code",
   "execution_count": null,
   "id": "c421e5fa",
   "metadata": {},
   "outputs": [],
   "source": [
    "#Limpeza de valores extremos\n",
    "print(\"Antes de quitar extremos: \",pisos.shape)\n",
    "index = pisos[(pisos['buy_price'] >= 1200000)|(pisos['buy_price'] <= 70000)].index\n",
    "pisos.drop(index, inplace=True)\n",
    "print(\"Despues de quitar extremos: \" ,pisos.shape)"
   ]
  },
  {
   "cell_type": "markdown",
   "id": "948151ec",
   "metadata": {},
   "source": [
    "***Vamos a ver los tipos y numeros de valores que hay en cada columna.***"
   ]
  },
  {
   "cell_type": "code",
   "execution_count": null,
   "id": "60e44225",
   "metadata": {
    "scrolled": false
   },
   "outputs": [],
   "source": [
    "pisos.dtypes\n",
    "for col in pisos:\n",
    "    print(col)\n",
    "    print(pisos[col].value_counts())\n",
    "    print('')"
   ]
  },
  {
   "cell_type": "markdown",
   "id": "087fef32",
   "metadata": {},
   "source": [
    "***Vamos a ver como oscila el precio según la planta en la que esta situado el piso, cuanto mayor es la planta mayor es el precio,\n",
    "los pisos de bajo, entresuelo y sótano son mas económicos.\n",
    "Las casas y chalets aunque la mayoria estan en zonas bastante alejadas del centro de la ciudad son bastante caras, ya\n",
    "que tiene muchos metros cuadrados.*** "
   ]
  },
  {
   "cell_type": "code",
   "execution_count": null,
   "id": "067675c3",
   "metadata": {},
   "outputs": [],
   "source": [
    "floory = pisos[\"floor\"]\n",
    "buy = pisos[\"buy_price\"]"
   ]
  },
  {
   "cell_type": "code",
   "execution_count": null,
   "id": "246548fb",
   "metadata": {},
   "outputs": [],
   "source": [
    "#Distribución precio, planta\n",
    "plt.figure(figsize= (30,15))\n",
    "sns.boxplot(x= floory, y= buy, data= pisos, palette= sns.color_palette(\"cubehelix\", 19),\n",
    "            order=[\"1\", \"2\", \"3\", \"4\", \"Bajo\",\"5\", \"6\", \"7\", \"8\", \"Entreplanta exterior\",\"9\", \"Semi-sótano exterior\", \"Semi-sótano interior\", \"Entreplanta interior\", \"Sótano interior\",\"Sótano\",\"Sótano exterior\",\"Entreplanta\",\"Semi-sótano\"])\n",
    "plt.xlabel(\"Planta\")\n",
    "plt.ylabel(\"Precio\")\n",
    "plt.show()"
   ]
  },
  {
   "cell_type": "markdown",
   "id": "aa58c1a0",
   "metadata": {},
   "source": [
    "***Podemos ver como cuanto mas alta es la planta mas caro es el piso, los de mayor precio estan en planta 9 y los sótanos \n",
    "son los más economicos."
   ]
  },
  {
   "cell_type": "markdown",
   "id": "873802ee",
   "metadata": {},
   "source": [
    "***Observando los valores de cada columna entiedo que hay varias columnas donde los valores NaN pueden ser perfectamente 'False', voy a ello.....***"
   ]
  },
  {
   "cell_type": "code",
   "execution_count": null,
   "id": "eb4a5c6f",
   "metadata": {},
   "outputs": [],
   "source": [
    "varios=['has_ac','has_fitted_wardrobes','has_garden','has_pool','has_terrace','has_balcony','has_storage_room','is_accessible','has_green_zones']\n",
    "for col in varios:\n",
    "    pisos[col]=pisos[col].fillna(False)\n",
    "pisos.head()"
   ]
  },
  {
   "cell_type": "markdown",
   "id": "fae41af2",
   "metadata": {},
   "source": [
    "***Según el tipo decasa podemos ver que los áticos, chalets y los duplex son mas caros que los pisos.***"
   ]
  },
  {
   "cell_type": "code",
   "execution_count": null,
   "id": "cb1ede45",
   "metadata": {},
   "outputs": [],
   "source": [
    "pisos['house_type_id']=pisos['house_type_id'].fillna(\"Otro\")"
   ]
  },
  {
   "cell_type": "code",
   "execution_count": null,
   "id": "58cf125c",
   "metadata": {},
   "outputs": [],
   "source": [
    "tipocasa = pisos['house_type_id']"
   ]
  },
  {
   "cell_type": "code",
   "execution_count": null,
   "id": "af6a65f4",
   "metadata": {},
   "outputs": [],
   "source": [
    "tipocasa.unique()"
   ]
  },
  {
   "cell_type": "code",
   "execution_count": null,
   "id": "8034a545",
   "metadata": {},
   "outputs": [],
   "source": [
    "#Distribución tipo de casa, precio\n",
    "plt.figure(figsize= (30,15))\n",
    "sns.boxplot(x= tipocasa, y= buy, data= pisos, palette= sns.color_palette(\"cubehelix\", 19),\n",
    "            order=[\"HouseType 1: Pisos\", \"HouseType 4: Dúplex\", \"Otro\",\"HouseType 5: Áticos\", \"HouseType 2: Casa o chalet\"])\n",
    "plt.xlabel(\"Tipo de casa\")\n",
    "plt.ylabel(\"Precio\")\n",
    "plt.show()            "
   ]
  },
  {
   "cell_type": "markdown",
   "id": "0113ae17",
   "metadata": {},
   "source": [
    "***Vamos a crear una columna para cada tipo de casa para poder realizar mejor la predicción***"
   ]
  },
  {
   "cell_type": "code",
   "execution_count": null,
   "id": "5a94a944",
   "metadata": {},
   "outputs": [],
   "source": [
    "pisos=pd.get_dummies(pisos,columns=['house_type_id'])\n",
    "#Es necesario borrar uno por lo que borraré le que he creado('Otro').\n",
    "pisos.drop(columns='house_type_id_Otro', inplace=True)\n",
    "pisos"
   ]
  },
  {
   "cell_type": "markdown",
   "id": "c91ab70e",
   "metadata": {},
   "source": [
    "**Ahora voy a proceder a eliminar las filas donde los metros y numero de baños son nulos, ya que tiene mucha correlación con el precio y tiene muy pocos valores nulos, unas 100 filas. ***"
   ]
  },
  {
   "cell_type": "code",
   "execution_count": null,
   "id": "0ea23ba0",
   "metadata": {},
   "outputs": [],
   "source": [
    "pisos=pisos[pisos['sq_mt_built'].notna()]\n",
    "pisos=pisos[pisos['n_bathrooms'].notna()]"
   ]
  },
  {
   "cell_type": "code",
   "execution_count": null,
   "id": "47e95f2d",
   "metadata": {},
   "outputs": [],
   "source": [
    "pisos.shape"
   ]
  },
  {
   "cell_type": "markdown",
   "id": "a29f088a",
   "metadata": {},
   "source": [
    "***Ahora vamos a centrarnos en la zona donde estan situados los pisos y los vamos a clasificar por distritos***"
   ]
  },
  {
   "cell_type": "code",
   "execution_count": null,
   "id": "5daec640",
   "metadata": {},
   "outputs": [],
   "source": [
    "pisos['district_id']=pisos['neighborhood_id'].copy()\n",
    "pisos.district_id=pisos.district_id.str.extract(r'(District \\d+)')\n",
    "pisos.neighborhood_id=pisos.neighborhood_id.str.extract(r'(Neighborhood \\d+)')\n",
    "pisos.district_id=pisos.district_id.str.extract(r'(\\d+)')\n",
    "pisos.neighborhood_id=pisos.neighborhood_id.str.extract(r'(\\d+)')\n",
    "pisos"
   ]
  },
  {
   "cell_type": "code",
   "execution_count": null,
   "id": "ce6952aa",
   "metadata": {},
   "outputs": [],
   "source": [
    "pisos.drop(columns='neighborhood_id', inplace=True)"
   ]
  },
  {
   "cell_type": "code",
   "execution_count": null,
   "id": "61b714af",
   "metadata": {},
   "outputs": [],
   "source": [
    "pisos[\"district_id\"].unique"
   ]
  },
  {
   "cell_type": "markdown",
   "id": "6af4cde9",
   "metadata": {},
   "source": [
    "***Por Distrito también encontramos diferencia en los precios de los inmuebles,el Distrito 11, Dsitrito 6, Distrito 5 y el Distrito 4\n",
    "son los mas caros, mientras que el Distrito 12 y el Distrito 2 son bastante economicos.***"
   ]
  },
  {
   "cell_type": "code",
   "execution_count": null,
   "id": "b4eb90d1",
   "metadata": {},
   "outputs": [],
   "source": [
    "plt.figure(figsize=(12,8))\n",
    "sns.countplot(x='district_id', data=pisos)"
   ]
  },
  {
   "cell_type": "code",
   "execution_count": null,
   "id": "b5ac2f1c",
   "metadata": {},
   "outputs": [],
   "source": [
    "distrito = pisos[\"district_id\"]"
   ]
  },
  {
   "cell_type": "code",
   "execution_count": null,
   "id": "f6bb8208",
   "metadata": {},
   "outputs": [],
   "source": [
    "#Distribución tipo de casa, precio\n",
    "plt.figure(figsize= (30,15))\n",
    "sns.boxplot(x= distrito, y= buy, data= pisos, palette= sns.color_palette(\"cubehelix\", 20),\n",
    "            order=[\"21\", \"19\", \"18\",\"17\", \"14\",\"13\", \"11\", \"12\",\"\", \"10\",\"8\", \"9\", \"6\",\"7\", \"5\",\"4\", \"3\", \"15\",\"1\", \"2\"])\n",
    "plt.xlabel(\"Distrito\")\n",
    "plt.ylabel(\"Precio\")\n",
    "plt.show()"
   ]
  },
  {
   "cell_type": "markdown",
   "id": "a316e945",
   "metadata": {},
   "source": [
    "***En el caso de la calefaccion individual la correlacion es negativa ya que si tiene suele ser electrica y es menos \n",
    "economico que tener calefacción central***"
   ]
  },
  {
   "cell_type": "code",
   "execution_count": null,
   "id": "5d76a664",
   "metadata": {},
   "outputs": [],
   "source": [
    "calefaccion_individual = pisos['has_individual_heating']"
   ]
  },
  {
   "cell_type": "code",
   "execution_count": null,
   "id": "3ab75e1c",
   "metadata": {},
   "outputs": [],
   "source": [
    "#Distribución calefaccion_individual , precio\n",
    "plt.figure(figsize= (30,15))\n",
    "sns.boxplot(x= calefaccion_individual, y= buy, data= pisos, palette= sns.color_palette(\"cubehelix\", 2),\n",
    "            order=[True,False])\n",
    "plt.xlabel(\"\")\n",
    "plt.ylabel(\"Precio\")\n",
    "plt.show()"
   ]
  },
  {
   "cell_type": "code",
   "execution_count": null,
   "id": "bc3961ac",
   "metadata": {},
   "outputs": [],
   "source": [
    "pisos['has_individual_heating']=pisos['has_individual_heating'].fillna(\"Misc\")"
   ]
  },
  {
   "cell_type": "code",
   "execution_count": null,
   "id": "d414ec61",
   "metadata": {},
   "outputs": [],
   "source": [
    "pisos=pd.get_dummies(pisos,columns=['has_individual_heating'])\n",
    "#Tengo que eliminar uno asi que eliminaré el que he creado.\n",
    "pisos.drop(columns='has_individual_heating_Misc', inplace=True)\n",
    "pisos"
   ]
  },
  {
   "cell_type": "code",
   "execution_count": null,
   "id": "2afb3472",
   "metadata": {},
   "outputs": [],
   "source": [
    "pisos.head()"
   ]
  },
  {
   "cell_type": "code",
   "execution_count": null,
   "id": "ccde8d16",
   "metadata": {},
   "outputs": [],
   "source": [
    "pisos.corr()['buy_price'].sort_values(ascending=False)"
   ]
  },
  {
   "cell_type": "code",
   "execution_count": null,
   "id": "8e72e92f",
   "metadata": {},
   "outputs": [],
   "source": [
    "pisos.drop(columns= ['operation','has_individual_heating_False','has_individual_heating_True'], inplace=True)                           \n"
   ]
  },
  {
   "cell_type": "markdown",
   "id": "c2ac2e90",
   "metadata": {},
   "source": [
    "***Vamos a hacer numerica la columna de plantas para poder hcer la predicción."
   ]
  },
  {
   "cell_type": "code",
   "execution_count": null,
   "id": "ac6d5a46",
   "metadata": {},
   "outputs": [],
   "source": [
    "pisos['floor']=pisos['floor'].fillna(\"otro\")"
   ]
  },
  {
   "cell_type": "code",
   "execution_count": null,
   "id": "f368fddb",
   "metadata": {},
   "outputs": [],
   "source": [
    "print(pisos['floor'].unique())"
   ]
  },
  {
   "cell_type": "code",
   "execution_count": null,
   "id": "03fc770b",
   "metadata": {},
   "outputs": [],
   "source": [
    "pisos[\"floor\"]= pisos[\"floor\"].map({\"1\":1, \"2\":2, \"3\":3, \"4\":4, \"Bajo\":0,\"5\":5, \"6\":6, \"7\":7, \"8\":8, \"Entreplanta exterior\":50,\"9\":9, \"Semi-sótano exterior\":25, \"Semi-sótano interior\":15, \"Entreplanta interior\":10, \"Sótano interior\":11,\"Sótano\":666,\"Sótano exterior\":35,\"Entreplanta\":45,\"Semi-sótano\":66})"
   ]
  },
  {
   "cell_type": "code",
   "execution_count": null,
   "id": "2c61849a",
   "metadata": {},
   "outputs": [],
   "source": [
    "pisos.head()"
   ]
  },
  {
   "cell_type": "markdown",
   "id": "46b0e5c4",
   "metadata": {},
   "source": [
    "***Quiero observar las columnas que tenian solo el valor True y he sustituido por False todos los valores vacios*** "
   ]
  },
  {
   "cell_type": "markdown",
   "id": "3b1cb61d",
   "metadata": {},
   "source": [
    "***Son las siguientes: 'has_ac','has_fitted_wardrobes','has_garden','has_pool','has_terrace','has_balcony','has_storage_room','is_accessible','has_green_zones'.***"
   ]
  },
  {
   "cell_type": "code",
   "execution_count": null,
   "id": "93aff8a6",
   "metadata": {},
   "outputs": [],
   "source": [
    "columns_to_plot = ['has_ac','has_fitted_wardrobes','has_garden','has_pool','has_terrace','has_balcony','has_storage_room','is_accessible','has_green_zones']\n",
    "\n",
    "# Configuración de los subplots\n",
    "num_plots = len(columns_to_plot)\n",
    "num_rows = 1\n",
    "num_cols = num_plots\n",
    "fig, axs = plt.subplots(num_rows, num_cols, figsize=(num_cols * 5, num_rows * 5))\n",
    "\n",
    "# Iterar sobre las columnas y crear los pie charts\n",
    "for i, column in enumerate(columns_to_plot):\n",
    "    # Obtener los datos de la columna\n",
    "    data = pisos[column].value_counts()\n",
    "    \n",
    "    # Crear el gráfico de pie\n",
    "    axs[i].pie(data, labels=data.index, autopct='%1.1f%%', startangle=90)\n",
    "    axs[i].set_title(f'Pie Chart {column}')\n",
    "\n",
    "# Ajuste de diseño\n",
    "plt.tight_layout()\n",
    "\n",
    "# Mostrar los gráficos\n",
    "plt.show()"
   ]
  },
  {
   "cell_type": "code",
   "execution_count": null,
   "id": "a9ab9b6f",
   "metadata": {},
   "outputs": [],
   "source": [
    "pisos.head()"
   ]
  },
  {
   "cell_type": "code",
   "execution_count": null,
   "id": "98f43dbf",
   "metadata": {},
   "outputs": [],
   "source": [
    "pisos['has_lift']=pd.to_numeric(pisos['has_lift'],errors='coerce')"
   ]
  },
  {
   "cell_type": "code",
   "execution_count": null,
   "id": "8273b50d",
   "metadata": {},
   "outputs": [],
   "source": [
    "floor_under = pisos.groupby(['has_lift']).sum()\n",
    "\n",
    "\n",
    "names = floor_under.index\n",
    "values = floor_under['buy_price']\n",
    "plt.title('TIENE ASCENSOR')\n",
    "plt.pie(values,labels=names,autopct='%.2f%%')\n",
    "plt.show()"
   ]
  },
  {
   "cell_type": "code",
   "execution_count": null,
   "id": "43d382bf",
   "metadata": {},
   "outputs": [],
   "source": [
    "pisos['is_exterior']=pd.to_numeric(pisos['is_exterior'],errors='coerce')"
   ]
  },
  {
   "cell_type": "code",
   "execution_count": null,
   "id": "55f35507",
   "metadata": {},
   "outputs": [],
   "source": [
    "floor_under = pisos.groupby(['is_exterior']).sum()\n",
    "\n",
    "\n",
    "names = floor_under.index\n",
    "values = floor_under['buy_price']\n",
    "plt.title('ES EXTERIOR')\n",
    "plt.pie(values,labels=names,autopct='%.2f%%')\n",
    "plt.show()"
   ]
  },
  {
   "cell_type": "code",
   "execution_count": null,
   "id": "64d5d839",
   "metadata": {},
   "outputs": [],
   "source": [
    "pisos['is_floor_under']=pisos['is_floor_under'].fillna(\"Misc\")"
   ]
  },
  {
   "cell_type": "code",
   "execution_count": null,
   "id": "3aab007c",
   "metadata": {},
   "outputs": [],
   "source": [
    "pisos=pd.get_dummies(pisos,columns=['is_floor_under'])\n",
    "#Need to drop one, so why not drop the one I created\n",
    "pisos.drop(columns='is_floor_under_Misc', inplace=True)\n",
    "pisos\n"
   ]
  },
  {
   "cell_type": "code",
   "execution_count": null,
   "id": "d44d9b70",
   "metadata": {},
   "outputs": [],
   "source": [
    "pisos.dtypes"
   ]
  },
  {
   "cell_type": "code",
   "execution_count": null,
   "id": "bfad6343",
   "metadata": {},
   "outputs": [],
   "source": [
    "pisos.isnull().sum()"
   ]
  },
  {
   "cell_type": "markdown",
   "id": "c0b26907",
   "metadata": {},
   "source": [
    "***VOY A RELLENAR LOS VALORES NULOS DE ESTAS COLUMNAS POR LA MODA, SON MUY POCOS DATOS LOS QUE HAY VACIOS.***"
   ]
  },
  {
   "cell_type": "code",
   "execution_count": null,
   "id": "8ad81789",
   "metadata": {},
   "outputs": [],
   "source": [
    "comode=pisos['is_new_development'].mode()[0]\n",
    "pisos['is_new_development']=pisos['is_new_development'].fillna(comode)"
   ]
  },
  {
   "cell_type": "code",
   "execution_count": null,
   "id": "60e4ea6f",
   "metadata": {},
   "outputs": [],
   "source": [
    "marca=(pisos['has_lift'].isnull()) & (pisos['house_type_id_HouseType 2: Casa o chalet']==0)\n",
    "lifmode=pisos['has_lift'].mode()[0]\n",
    "pisos['has_lift'][marca]=lifmode\n",
    "print(pisos['has_lift'].value_counts())"
   ]
  },
  {
   "cell_type": "code",
   "execution_count": null,
   "id": "847ee5e6",
   "metadata": {},
   "outputs": [],
   "source": [
    "marca=(pisos['is_exterior'].isnull()) & (pisos['house_type_id_HouseType 2: Casa o chalet']==0)\n",
    "exmode=pisos['is_exterior'].mode()[0]\n",
    "pisos['is_exterior'][marca]=exmode\n",
    "print(pisos['is_exterior'].value_counts())"
   ]
  },
  {
   "cell_type": "code",
   "execution_count": null,
   "id": "8e4f2d59",
   "metadata": {},
   "outputs": [],
   "source": [
    "flomode=pisos['floor'].mode()[0]\n",
    "pisos['floor']=pisos['floor'].fillna(flomode)"
   ]
  },
  {
   "cell_type": "code",
   "execution_count": null,
   "id": "ee307766",
   "metadata": {},
   "outputs": [],
   "source": [
    "total = pisos.isnull().sum()"
   ]
  },
  {
   "cell_type": "code",
   "execution_count": null,
   "id": "c740e560",
   "metadata": {},
   "outputs": [],
   "source": [
    "pisos['has_lift']=pd.to_numeric(pisos['has_lift'],errors='coerce')\n",
    "pisos['is_exterior']=pd.to_numeric(pisos['is_exterior'],errors='coerce')\n"
   ]
  },
  {
   "cell_type": "code",
   "execution_count": null,
   "id": "66252a21",
   "metadata": {},
   "outputs": [],
   "source": [
    "X = pisos.drop(columns=['buy_price'])\n",
    "X = X.astype('category')"
   ]
  },
  {
   "cell_type": "code",
   "execution_count": null,
   "id": "0028ceab",
   "metadata": {},
   "outputs": [],
   "source": [
    "# label encoder\n",
    "from sklearn.preprocessing import LabelEncoder\n",
    "X=X.apply(LabelEncoder().fit_transform)"
   ]
  },
  {
   "cell_type": "code",
   "execution_count": null,
   "id": "f565aa06",
   "metadata": {},
   "outputs": [],
   "source": [
    "X"
   ]
  },
  {
   "cell_type": "code",
   "execution_count": null,
   "id": "a6a97e07",
   "metadata": {},
   "outputs": [],
   "source": [
    "y= pisos['buy_price']"
   ]
  },
  {
   "cell_type": "code",
   "execution_count": null,
   "id": "2ac0a23f",
   "metadata": {},
   "outputs": [],
   "source": [
    "X.head()"
   ]
  },
  {
   "cell_type": "code",
   "execution_count": null,
   "id": "250e6a0a",
   "metadata": {},
   "outputs": [],
   "source": [
    "y"
   ]
  },
  {
   "cell_type": "code",
   "execution_count": null,
   "id": "7007ffc0",
   "metadata": {},
   "outputs": [],
   "source": [
    "pisos.isnull().sum()"
   ]
  },
  {
   "cell_type": "markdown",
   "id": "36faae03",
   "metadata": {},
   "source": [
    "***VAMOS A VER EN GRÁFICO LAS COLUMNAS QUE TENEMOS***"
   ]
  },
  {
   "cell_type": "code",
   "execution_count": null,
   "id": "3b8d4b73",
   "metadata": {},
   "outputs": [],
   "source": [
    "pisos.hist(figsize = (18,16))"
   ]
  },
  {
   "cell_type": "code",
   "execution_count": null,
   "id": "79f23db4",
   "metadata": {},
   "outputs": [],
   "source": [
    "from sklearn.model_selection import train_test_split"
   ]
  },
  {
   "cell_type": "code",
   "execution_count": null,
   "id": "7392d99f",
   "metadata": {},
   "outputs": [],
   "source": [
    "X_train, X_test, y_train, y_test =train_test_split(X, y, random_state=66, test_size=0.2)"
   ]
  },
  {
   "cell_type": "markdown",
   "id": "d08cd6fb",
   "metadata": {},
   "source": [
    "# Escalo los datos"
   ]
  },
  {
   "cell_type": "markdown",
   "id": "82e4af16",
   "metadata": {},
   "source": [
    "***El escalado de datos se refiere al proceso de transformar las variables numéricas de entrada para que estén en una escala similar.\n",
    "El escalado de datos es esencialmente necesario por dos razones principales:\n",
    "a. Para evitar el dominio de una característica sobre otras.\n",
    "b. Para acelerar el proceso de convergencia.***"
   ]
  },
  {
   "cell_type": "code",
   "execution_count": null,
   "id": "84e968b7",
   "metadata": {},
   "outputs": [],
   "source": [
    "from sklearn.preprocessing import StandardScaler\n",
    "sc = StandardScaler()\n",
    "X_train = sc.fit_transform(X_train)\n",
    "X_test = sc.transform(X_test)"
   ]
  },
  {
   "cell_type": "markdown",
   "id": "db9d56b2",
   "metadata": {},
   "source": [
    "# REALIZO LA PCA"
   ]
  },
  {
   "cell_type": "markdown",
   "id": "ea2c1d61",
   "metadata": {},
   "source": [
    "***El PCA es una técnica de reducción de dimensionalidad que se utiliza para comprimir la información contenida en un conjunto de datos con muchas características en un conjunto de datos con menos características, conocidas como componentes principales. La idea detrás del PCA es transformar las variables originales en un nuevo conjunto de variables no correlacionadas llamadas componentes principales.\n",
    "El PCA tiene varios propósitos importantes:\n",
    "a. Reducción de la dimensionalidad mientras se retiene la mayor cantidad posible de información relevante.\n",
    "b. Eliminación de la multicolinealidad (alta correlación).\n",
    "c. Reducción del ruido  y mantener la información más importante.\n",
    "d. Visualización de datos***\n"
   ]
  },
  {
   "cell_type": "code",
   "execution_count": null,
   "id": "5325ad4e",
   "metadata": {},
   "outputs": [],
   "source": [
    "from sklearn.decomposition import PCA\n",
    "pca = PCA(n_components=2)\n",
    "X_train = pca.fit_transform(X_train)\n",
    "X_test = pca.transform(X_test)"
   ]
  },
  {
   "cell_type": "markdown",
   "id": "243923a2",
   "metadata": {},
   "source": [
    "***En resumen, el escalado de datos y el PCA son técnicas clave para mejorar la calidad de los datos y reducir la dimensionalidad en el análisis de machine learning. Estas prácticas ayudan a los modelos a converger más rápido, reducir el riesgo de dominio de una característica, eliminar la multicolinealidad y mejorar la interpretación de los datos.***"
   ]
  },
  {
   "cell_type": "code",
   "execution_count": null,
   "id": "679fd19d",
   "metadata": {},
   "outputs": [],
   "source": [
    "from sklearn.dummy import DummyRegressor\n",
    "from sklearn.linear_model import LinearRegression\n",
    "from sklearn.svm import SVR\n",
    "from sklearn.neighbors import KNeighborsRegressor\n",
    "from sklearn.tree import DecisionTreeRegressor\n",
    "from sklearn.ensemble import RandomForestRegressor\n",
    "import xgboost as xgb"
   ]
  },
  {
   "cell_type": "markdown",
   "id": "65873eca",
   "metadata": {},
   "source": [
    "# Lineal Regresión Multiple"
   ]
  },
  {
   "cell_type": "code",
   "execution_count": null,
   "id": "16430eea",
   "metadata": {},
   "outputs": [],
   "source": [
    "lr_multiple = linear_model.LinearRegression()"
   ]
  },
  {
   "cell_type": "code",
   "execution_count": null,
   "id": "9f5f8a5d",
   "metadata": {},
   "outputs": [],
   "source": [
    "lr_multiple.fit(X_train, y_train)"
   ]
  },
  {
   "cell_type": "code",
   "execution_count": null,
   "id": "e3fe452a",
   "metadata": {},
   "outputs": [],
   "source": [
    "y_pred = lr_multiple.predict(X_test)\n",
    "y_pred"
   ]
  },
  {
   "cell_type": "code",
   "execution_count": null,
   "id": "4ca38284",
   "metadata": {},
   "outputs": [],
   "source": [
    "y_test"
   ]
  },
  {
   "cell_type": "code",
   "execution_count": null,
   "id": "c44cd76e",
   "metadata": {},
   "outputs": [],
   "source": [
    "print('DATOS DEL MODELO REGRESIÓN LINEAL MULTIPLE')\n",
    "print()\n",
    "print('Valor de las pendientes o coeficientes \"a\":')\n",
    "print(lr_multiple.coef_)\n",
    "print('Valor de la intersección o coeficiente \"b\":')\n",
    "print(lr_multiple.intercept_)"
   ]
  },
  {
   "cell_type": "code",
   "execution_count": null,
   "id": "91b48fca",
   "metadata": {},
   "outputs": [],
   "source": [
    "print(\"Precisión del modelo:\")\n",
    "print(lr_multiple.score(X_train, y_train))"
   ]
  },
  {
   "cell_type": "code",
   "execution_count": null,
   "id": "7410e536",
   "metadata": {},
   "outputs": [],
   "source": [
    "from sklearn.metrics import explained_variance_score\n",
    "from sklearn.metrics import mean_absolute_error\n",
    "\n",
    "predas = lr_multiple.predict(X_test)\n",
    "mae = mean_absolute_error(y_test, predas)\n",
    "rmse = np.sqrt(mean_squared_error(y_test, predas))\n",
    "print(\"MAE: %f\"  % (mae))\n",
    "print(\"RMSE: %f\" % (rmse))\n",
    "print(explained_variance_score(predas,y_test))"
   ]
  },
  {
   "cell_type": "markdown",
   "id": "0d7fbba8",
   "metadata": {},
   "source": [
    "# XGB REGRESOR"
   ]
  },
  {
   "cell_type": "code",
   "execution_count": null,
   "id": "a26dd80e",
   "metadata": {},
   "outputs": [],
   "source": [
    "from numpy import asarray\n",
    "#import xgboost as xgb\n",
    "from xgboost import XGBRegressor\n"
   ]
  },
  {
   "cell_type": "code",
   "execution_count": null,
   "id": "a5fa3dbe",
   "metadata": {
    "scrolled": true
   },
   "outputs": [],
   "source": [
    "#Implementación de algoritmo de árboles de decisión XGBoost, personalizando variables.\n",
    "from sklearn.metrics import explained_variance_score\n",
    "from sklearn.metrics import mean_absolute_error\n",
    "\n",
    "data_dmatrix = xgb.DMatrix(data=X,label=y)\n",
    "\n",
    "X_train, X_test, y_train, y_test = train_test_split(X, y, test_size=0.2, random_state=100)\n",
    "\n",
    "\n",
    "xg_reg = xgb.XGBRegressor(objective = 'reg:squarederror',#'reg:linear',\n",
    "                          eta = 0.3,\n",
    "                          min_child_weight = 1,\n",
    "                          gamma = 0.1018506246381371,\n",
    "                          colsample_bytree = 0.8629698417369874, \n",
    "                          learning_rate = 0.06164827794908118, \n",
    "                          max_depth = 5, \n",
    "                          alpha = 8.072986901537691, \n",
    "                          n_estimators = 127,\n",
    "                          subsample= 0.6873761748867334)\n",
    "xg_reg.fit(X_train,y_train)\n",
    "preds = xg_reg.predict(X_test)\n",
    "mae = mean_absolute_error(y_test, preds)\n",
    "rmse = np.sqrt(mean_squared_error(y_test, preds))\n",
    "print(\"MAE: %f\"  % (mae))\n",
    "print(\"RMSE: %f\" % (rmse))\n",
    "print(explained_variance_score(preds,y_test))\n",
    "solucion0= xg_reg.score(X_train, y_train)\n",
    "\n",
    "print(solucion0)"
   ]
  },
  {
   "cell_type": "code",
   "execution_count": null,
   "id": "935d9a12",
   "metadata": {},
   "outputs": [],
   "source": [
    "plt.figure(figsize=(12,8))\n",
    "\n",
    "# Our predictions\n",
    "plt.scatter(y_test, preds);\n",
    "\n",
    "# Perfect predictions\n",
    "plt.plot(y_test, y_test, color='r', label='perfect fit line')\n",
    "plt.legend();"
   ]
  },
  {
   "cell_type": "markdown",
   "id": "312bfaf7",
   "metadata": {},
   "source": [
    "# Support Vector Machine (SVM)"
   ]
  },
  {
   "cell_type": "code",
   "execution_count": null,
   "id": "48cfae04",
   "metadata": {},
   "outputs": [],
   "source": [
    "from sklearn.svm import SVR"
   ]
  },
  {
   "cell_type": "code",
   "execution_count": null,
   "id": "fda0cf8c",
   "metadata": {},
   "outputs": [],
   "source": [
    "svr = SVR(kernel=\"linear\", C=1.0, epsilon=0.2)"
   ]
  },
  {
   "cell_type": "code",
   "execution_count": null,
   "id": "4cbfe9c9",
   "metadata": {},
   "outputs": [],
   "source": [
    "svr.fit(X_train, y_train)"
   ]
  },
  {
   "cell_type": "code",
   "execution_count": null,
   "id": "a60b8814",
   "metadata": {},
   "outputs": [],
   "source": [
    "solucion_4=[svr.intercept_,svr.coef_,svr.score(X,y)]\n",
    "\n",
    "solucion_4"
   ]
  },
  {
   "cell_type": "code",
   "execution_count": null,
   "id": "5c1c9d2e",
   "metadata": {},
   "outputs": [],
   "source": [
    "print(\"DATOS DEL MODELO VECTORES DE SOPORTE REGRESIÓN\")\n",
    "print()\n",
    "print(\"Precisión del modelo:\")\n",
    "print(svr.score(X_train, y_train))"
   ]
  },
  {
   "cell_type": "code",
   "execution_count": null,
   "id": "d9719cfb",
   "metadata": {},
   "outputs": [],
   "source": [
    "predv = svr.predict(X_test)\n",
    "mae = mean_absolute_error(y_test, predv)\n",
    "rmse = np.sqrt(mean_squared_error(y_test, predv))\n",
    "print(\"MAE: %f\"  % (mae))\n",
    "print(\"RMSE: %f\" % (rmse))\n",
    "print(explained_variance_score(predv,y_test))"
   ]
  },
  {
   "cell_type": "markdown",
   "id": "0f03decb",
   "metadata": {},
   "source": [
    "# Decission Tree Regression"
   ]
  },
  {
   "cell_type": "code",
   "execution_count": null,
   "id": "fe331ece",
   "metadata": {},
   "outputs": [],
   "source": [
    "from sklearn.tree import DecisionTreeRegressor\n",
    "adr = DecisionTreeRegressor(max_depth=5)"
   ]
  },
  {
   "cell_type": "code",
   "execution_count": null,
   "id": "eb85958c",
   "metadata": {},
   "outputs": [],
   "source": [
    "adr.fit(X_train, y_train)"
   ]
  },
  {
   "cell_type": "code",
   "execution_count": null,
   "id": "98bf5a58",
   "metadata": {},
   "outputs": [],
   "source": [
    "y_pred = adr.predict(X_test)\n",
    "y_pred"
   ]
  },
  {
   "cell_type": "code",
   "execution_count": null,
   "id": "d121b42c",
   "metadata": {},
   "outputs": [],
   "source": [
    "y_test"
   ]
  },
  {
   "cell_type": "code",
   "execution_count": null,
   "id": "d219f033",
   "metadata": {},
   "outputs": [],
   "source": [
    "print(\"Datos del Modelo de árboles de decision Regresión\")\n",
    "print()\n",
    "print(\"Precisión del modelo:\")\n",
    "print(adr.score(X_train, y_train))"
   ]
  },
  {
   "cell_type": "code",
   "execution_count": null,
   "id": "1c5b8240",
   "metadata": {},
   "outputs": [],
   "source": [
    "predtree = adr.predict(X_test)\n",
    "mae = mean_absolute_error(y_test, predtree)\n",
    "rmse = np.sqrt(mean_squared_error(y_test, predtree))\n",
    "print(\"MAE: %f\"  % (mae))\n",
    "print(\"RMSE: %f\" % (rmse))\n",
    "print(explained_variance_score(predtree,y_test))"
   ]
  },
  {
   "cell_type": "markdown",
   "id": "a5e7fedf",
   "metadata": {},
   "source": [
    "# Regresión Líneal Polinomial"
   ]
  },
  {
   "cell_type": "code",
   "execution_count": null,
   "id": "7d8e2a79",
   "metadata": {},
   "outputs": [],
   "source": [
    "from sklearn.preprocessing import PolynomialFeatures"
   ]
  },
  {
   "cell_type": "code",
   "execution_count": null,
   "id": "494ad631",
   "metadata": {},
   "outputs": [],
   "source": [
    "poli_reg = PolynomialFeatures(degree= 2)"
   ]
  },
  {
   "cell_type": "code",
   "execution_count": null,
   "id": "e86710f1",
   "metadata": {},
   "outputs": [],
   "source": [
    "X_train_poli = poli_reg.fit_transform(X_train)\n",
    "X_test_poli = poli_reg.fit_transform(X_test)"
   ]
  },
  {
   "cell_type": "code",
   "execution_count": null,
   "id": "b5153ca1",
   "metadata": {},
   "outputs": [],
   "source": [
    "pr = linear_model.LinearRegression()"
   ]
  },
  {
   "cell_type": "code",
   "execution_count": null,
   "id": "61447df5",
   "metadata": {},
   "outputs": [],
   "source": [
    "pr.fit(X_train_poli, y_train)"
   ]
  },
  {
   "cell_type": "code",
   "execution_count": null,
   "id": "1211fd56",
   "metadata": {},
   "outputs": [],
   "source": [
    "y_pred = pr.predict(X_test_poli)\n",
    "y_pred"
   ]
  },
  {
   "cell_type": "code",
   "execution_count": null,
   "id": "511c9586",
   "metadata": {},
   "outputs": [],
   "source": [
    "y_test"
   ]
  },
  {
   "cell_type": "code",
   "execution_count": null,
   "id": "00c7c0ed",
   "metadata": {},
   "outputs": [],
   "source": [
    "print(\"Datos del modelo Regresion Lineal Polinomial\")\n",
    "print()\n",
    "print(\"Precisión del modelo: \")\n",
    "print(pr.score(X_train_poli, y_train))"
   ]
  },
  {
   "cell_type": "markdown",
   "id": "6b2c4add",
   "metadata": {},
   "source": [
    "# Random Forest Regression"
   ]
  },
  {
   "cell_type": "code",
   "execution_count": null,
   "id": "3541615c",
   "metadata": {},
   "outputs": [],
   "source": [
    "from sklearn.ensemble import RandomForestRegressor\n",
    "bar = RandomForestRegressor(n_estimators=300, max_depth=8)"
   ]
  },
  {
   "cell_type": "code",
   "execution_count": null,
   "id": "3d823b2f",
   "metadata": {},
   "outputs": [],
   "source": [
    "bar.fit(X_train, y_train)"
   ]
  },
  {
   "cell_type": "code",
   "execution_count": null,
   "id": "71903780",
   "metadata": {},
   "outputs": [],
   "source": [
    "y_pred = bar.predict(X_test)\n",
    "y_pred"
   ]
  },
  {
   "cell_type": "code",
   "execution_count": null,
   "id": "8e33c9cd",
   "metadata": {},
   "outputs": [],
   "source": [
    "y_test"
   ]
  },
  {
   "cell_type": "code",
   "execution_count": null,
   "id": "936e18f0",
   "metadata": {},
   "outputs": [],
   "source": [
    "#Implementación de algoritmo Bosques Aleatorios Regresión\n",
    "from sklearn.metrics import explained_variance_score\n",
    "from sklearn.metrics import mean_absolute_error"
   ]
  },
  {
   "cell_type": "code",
   "execution_count": null,
   "id": "bec900da",
   "metadata": {},
   "outputs": [],
   "source": [
    "print(\"Datos del modelo Bosques Aleatorios Regresión\")\n",
    "print()\n",
    "print(\"Precisión del modelo: \")\n",
    "print(bar.score(X_train, y_train))"
   ]
  },
  {
   "cell_type": "code",
   "execution_count": null,
   "id": "5649734b",
   "metadata": {},
   "outputs": [],
   "source": [
    "predis = bar.predict(X_test)\n",
    "mae = mean_absolute_error(y_test, predis)\n",
    "rmse = np.sqrt(mean_squared_error(y_test, predis))\n",
    "print(\"MAE: %f\"  % (mae))\n",
    "print(\"RMSE: %f\" % (rmse))\n",
    "print(explained_variance_score(predis,y_test))"
   ]
  },
  {
   "cell_type": "code",
   "execution_count": null,
   "id": "82aebcc3",
   "metadata": {},
   "outputs": [],
   "source": [
    "plt.figure(figsize=(12,8))\n",
    "\n",
    "# Our predictions\n",
    "plt.scatter(y_test, predis);\n",
    "\n",
    "# Perfect predictions\n",
    "plt.plot(y_test, y_test, color='r', label='perfect fit line')\n",
    "plt.legend();"
   ]
  },
  {
   "cell_type": "code",
   "execution_count": null,
   "id": "81ce403c",
   "metadata": {},
   "outputs": [],
   "source": [
    " from sklearn.neighbors import KNeighborsRegressor"
   ]
  },
  {
   "cell_type": "code",
   "execution_count": null,
   "id": "f45a5a3d",
   "metadata": {},
   "outputs": [],
   "source": [
    "knn= KNeighborsRegressor(n_neighbors=2)"
   ]
  },
  {
   "cell_type": "code",
   "execution_count": null,
   "id": "73ca996d",
   "metadata": {},
   "outputs": [],
   "source": [
    "knn.fit(X_train, y_train)"
   ]
  },
  {
   "cell_type": "code",
   "execution_count": null,
   "id": "0e14ff1b",
   "metadata": {},
   "outputs": [],
   "source": [
    "y_pred = knn.predict(X_test)\n",
    "y_pred"
   ]
  },
  {
   "cell_type": "code",
   "execution_count": null,
   "id": "3c93858e",
   "metadata": {},
   "outputs": [],
   "source": [
    "y_test"
   ]
  },
  {
   "cell_type": "code",
   "execution_count": null,
   "id": "b6430670",
   "metadata": {},
   "outputs": [],
   "source": [
    "print(\"Datos del modelo KNeighborsRegressor\")\n",
    "print()\n",
    "print(\"Precisión del modelo: \")\n",
    "print(knn.score(X_train, y_train))"
   ]
  },
  {
   "cell_type": "code",
   "execution_count": null,
   "id": "968a9612",
   "metadata": {},
   "outputs": [],
   "source": [
    "KNeighborsRegressor(...)\n",
    ">>> print(knn.predict([[60, 2, 1, 9, 0, 1, 1, 1, 1, 0, 0, 0, 1, 1, 0, 0, 0, 1, 0, 0, 0, 12, 1, 0]]))\n"
   ]
  },
  {
   "cell_type": "code",
   "execution_count": null,
   "id": "cfe53907",
   "metadata": {},
   "outputs": [],
   "source": [
    "predoos = knn.predict(X_test)\n",
    "mae = mean_absolute_error(y_test, predoos)\n",
    "rmse = np.sqrt(mean_squared_error(y_test, predoos))\n",
    "print(\"MAE: %f\"  % (mae))\n",
    "print(\"RMSE: %f\" % (rmse))\n",
    "print(explained_variance_score(predoos,y_test))"
   ]
  },
  {
   "cell_type": "markdown",
   "id": "32f1a391",
   "metadata": {},
   "source": [
    "# **** VAMOS A OPTIMIZAR CON GridSearchCV****"
   ]
  },
  {
   "cell_type": "markdown",
   "id": "ce83b7fd",
   "metadata": {},
   "source": [
    "# KNeighborsRegressor"
   ]
  },
  {
   "cell_type": "code",
   "execution_count": null,
   "id": "17bf8ab1",
   "metadata": {},
   "outputs": [],
   "source": [
    "from sklearn.model_selection import GridSearchCV\n",
    "params = [{\n",
    "        'n_neighbors': [5,6,7,8],\n",
    "    }]\n",
    "kgrid = GridSearchCV(estimator=KNeighborsRegressor(),           \n",
    "                      param_grid=params, \n",
    "                      cv=5,\n",
    "                      verbose=0) \n",
    "kgrid.fit(X_train, y_train)\n",
    "print(kgrid.best_score_)\n",
    "print(kgrid.best_estimator_)\n",
    "print(kgrid.best_params_)\n",
    "print(list(zip(kgrid.cv_results_['params'],kgrid.cv_results_['mean_test_score'])))"
   ]
  },
  {
   "cell_type": "code",
   "execution_count": null,
   "id": "949551e4",
   "metadata": {},
   "outputs": [],
   "source": [
    "df=pd.DataFrame({\n",
    "    'modelo':['Lineal Regresión Multiple','XGB REGRESOR','Support Vector Machine (SVM)','DecisionTreeRegressor','Regresión Líneal Polinomial', 'Bosques Aleatorios Regresión', 'KNeighborsRegressor' ,'KNeighborsRegressorGrid'],\n",
    "    'score':[0.425, 0.906, 0.602, 0.783, 0.776, 0.892, 0.94, 0.802]\n",
    "})\n",
    "df"
   ]
  },
  {
   "cell_type": "markdown",
   "id": "d0305f45",
   "metadata": {},
   "source": [
    "# ***EL QUE MEJOR RESULTADO DA ES EL KNeighborsRegressor  94 %***"
   ]
  },
  {
   "cell_type": "markdown",
   "id": "b89b3965",
   "metadata": {},
   "source": [
    "***PRIMERO VAMOS A VER EL PRECIO DE UNA VIVIENDA DE 60 M,2 HAB,1 BAÑO,PLANTA 5 Y EN UN DISTRITO CARO, EL 5 .***"
   ]
  },
  {
   "cell_type": "code",
   "execution_count": null,
   "id": "d353cfce",
   "metadata": {},
   "outputs": [],
   "source": [
    "\n",
    "prueba11 = [80, 2, 1, 5, 0, 0, 0, 0, 1, 1, 1, 1, 1, 0, 1, 1, 0, 1, 0, 0, 0, 5, 1, 0]\n",
    "new_data = asarray([prueba11])\n",
    "# make a prediction\n",
    "yhat = knn.predict(new_data)\n",
    "# summarize prediction\n",
    "print('Precio de vivienda: %.2f euros' % yhat)"
   ]
  },
  {
   "cell_type": "code",
   "execution_count": null,
   "id": "2f96bb80",
   "metadata": {},
   "outputs": [],
   "source": []
  },
  {
   "cell_type": "markdown",
   "id": "95329369",
   "metadata": {},
   "source": [
    "***LUEGO VAMOS A VER EL PRECIO DE UNA VIVIENDA DE 60 M,2 HAB,1 BAÑO,PLANTA BAJA Y EN UN DISTRITO BARATO, EL 12.***"
   ]
  },
  {
   "cell_type": "code",
   "execution_count": null,
   "id": "15916a61",
   "metadata": {},
   "outputs": [],
   "source": [
    "prueba22 = [60, 2, 1, 0, 0, 0, 0, 0, 1, 1, 0, 0, 1, 1, 0, 0, 0, 1, 0, 0, 0, 12, 0, 1]\n",
    "new_data = asarray([prueba22])\n",
    "# make a prediction\n",
    "yhat = knn.predict(new_data)\n",
    "# summarize prediction\n",
    "print('Precio de vivienda: %.2f euros' % yhat)"
   ]
  },
  {
   "cell_type": "code",
   "execution_count": null,
   "id": "73524264",
   "metadata": {},
   "outputs": [],
   "source": []
  },
  {
   "cell_type": "markdown",
   "id": "683e775f",
   "metadata": {},
   "source": [
    "***AHORA VAMOS A VER EL PRECIO DE UNA VIVIENDA DE 60 M,2 HAB,1 BAÑO PLANTA BAJA Y EN UN DISTRITO CARO, EL 5.***"
   ]
  },
  {
   "cell_type": "code",
   "execution_count": null,
   "id": "4992bd22",
   "metadata": {},
   "outputs": [],
   "source": [
    "prueba33 = [60, 2, 1, 0, 0, 0, 0, 0, 1, 1, 0, 0, 1, 1, 0, 0, 0, 1, 0, 0, 0, 5, 0, 1]\n",
    "new_data = asarray([prueba33])\n",
    "# make a prediction\n",
    "yhat = knn.predict(new_data)\n",
    "# summarize prediction\n",
    "print('Precio de vivienda: %.2f euros' % yhat)"
   ]
  },
  {
   "cell_type": "code",
   "execution_count": null,
   "id": "da9b86e1",
   "metadata": {},
   "outputs": [],
   "source": []
  },
  {
   "cell_type": "markdown",
   "id": "feabac66",
   "metadata": {},
   "source": [
    "***FINALMENTE VAMOS A VER EL PRECIO DE UNA VIVIENDA DE 60M,2HAB,1 BAÑO,PLANTA 9 Y EN UN DISTRITO BARATO, EL 12.***"
   ]
  },
  {
   "cell_type": "code",
   "execution_count": null,
   "id": "81e89057",
   "metadata": {},
   "outputs": [],
   "source": [
    "prueba44 = [60, 2, 1, 9, 0, 0, 0, 0, 1, 1, 0, 0, 1, 1, 0, 0, 0, 1, 0, 0, 0, 12, 1, 0]\n",
    "new_data = asarray([prueba44])\n",
    "# make a prediction\n",
    "yhat = knn.predict(new_data)\n",
    "# summarize prediction\n",
    "print('Precio de vivienda: %.2f euros' % yhat)"
   ]
  },
  {
   "cell_type": "code",
   "execution_count": null,
   "id": "8a7a6e07",
   "metadata": {},
   "outputs": [],
   "source": []
  },
  {
   "cell_type": "markdown",
   "id": "12738b1a",
   "metadata": {},
   "source": []
  },
  {
   "cell_type": "code",
   "execution_count": null,
   "id": "9e31a218",
   "metadata": {},
   "outputs": [],
   "source": []
  },
  {
   "cell_type": "code",
   "execution_count": null,
   "id": "7ce0fdd1",
   "metadata": {},
   "outputs": [],
   "source": []
  },
  {
   "cell_type": "code",
   "execution_count": null,
   "id": "314dfb7d",
   "metadata": {},
   "outputs": [],
   "source": []
  },
  {
   "cell_type": "markdown",
   "id": "49fb5c41",
   "metadata": {},
   "source": [
    "# ***Rosana Longares***"
   ]
  }
 ],
 "metadata": {
  "kernelspec": {
   "display_name": "Python 3 (ipykernel)",
   "language": "python",
   "name": "python3"
  },
  "language_info": {
   "codemirror_mode": {
    "name": "ipython",
    "version": 3
   },
   "file_extension": ".py",
   "mimetype": "text/x-python",
   "name": "python",
   "nbconvert_exporter": "python",
   "pygments_lexer": "ipython3",
   "version": "3.8.6"
  }
 },
 "nbformat": 4,
 "nbformat_minor": 5
}
